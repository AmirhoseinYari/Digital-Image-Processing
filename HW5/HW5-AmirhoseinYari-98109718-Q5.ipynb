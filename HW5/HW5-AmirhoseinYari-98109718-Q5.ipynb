{
 "cells": [
  {
   "cell_type": "markdown",
   "metadata": {},
   "source": [
    "### Importing Libraries"
   ]
  },
  {
   "cell_type": "code",
   "execution_count": 8,
   "metadata": {},
   "outputs": [],
   "source": [
    "import cv2\n",
    "import numpy as np\n",
    "import imageio as iio\n",
    "from matplotlib import pyplot as plt"
   ]
  },
  {
   "cell_type": "code",
   "execution_count": 9,
   "metadata": {},
   "outputs": [
    {
     "data": {
      "image/png": "[encoded data removed]",
      "text/plain": [
       "<Figure size 432x288 with 1 Axes>"
      ]
     },
     "metadata": {
      "needs_background": "light"
     },
     "output_type": "display_data"
    }
   ],
   "source": [
    "N = 20\n",
    "img = np.random.randint(1,255,size=(N,N))\n",
    "plt.imshow(img,cmap=\"gray\");"
   ]
  },
  {
   "cell_type": "code",
   "execution_count": 10,
   "metadata": {},
   "outputs": [],
   "source": [
    "def Unary(num): # 5 -> 111110\n",
    "    b = []\n",
    "    for i in range(num):\n",
    "        b.append(1) #set \"num\" ones\n",
    "    b.append(0) #just one zero in the end\n",
    "    return(b)\n",
    "#print(Unary(5))\n",
    "\n",
    "def binary(num,bits): # 2,5 -> 00010\n",
    "    b = []\n",
    "    out = bin(num)\n",
    "    for i in range(bits-len(out)+2):\n",
    "        b.append(0) #left zeros of binary number for setting bits as wanted\n",
    "    for i in range(len(out)-2):\n",
    "        b.append(int(out[i+2])) #binery number\n",
    "    return b\n",
    "#print(binary(2,5))"
   ]
  },
  {
   "cell_type": "code",
   "execution_count": 11,
   "metadata": {},
   "outputs": [],
   "source": [
    "def encode(img,m=20):\n",
    "    k = int(np.ceil(np.log2(m)))\n",
    "    c = int(2**k-m)\n",
    "    #print(m,k,c)\n",
    "    #print(bin(c))\n",
    "    encoded = []\n",
    "    for i in range(img.shape[0]):\n",
    "        for j in range(img.shape[1]):\n",
    "            numb = img[i,j]\n",
    "            q = numb//m # q\n",
    "            r = numb - q*m # r\n",
    "            qcode = Unary(q) # q codded unary\n",
    "            if r<c:\n",
    "                rcode = binary(r,k-1) # r<c codded in k-1 bits\n",
    "            else :\n",
    "                rcode = binary(r+c,k) # r>c codded in k bits\n",
    "            code = qcode + rcode\n",
    "            #print(q,qcode,r,rcode,code)\n",
    "            encoded += code # adding each number code to the whole codes\n",
    "    #print(\"encoded =\",encoded)\n",
    "    return encoded"
   ]
  },
  {
   "cell_type": "code",
   "execution_count": 12,
   "metadata": {},
   "outputs": [],
   "source": [
    "def decode(x,m=20):\n",
    "    k = int(np.ceil(np.log2(m)))\n",
    "    c = int(2**k-m)\n",
    "    img = []\n",
    "    i = 0\n",
    "    while i<len(x):\n",
    "        #print(x[i],end='')\n",
    "        q = 0\n",
    "        while x[i+q]==1: # count ones\n",
    "            q+=1\n",
    "        i+=q+1 # jump to rcoded part\n",
    "        if x[i:i+k-1]<binary(c,k-1): # check if r part is k bit or k-1\n",
    "            #print(q,x[i:i+k-1])\n",
    "            r = num(x[i:i+k-1])\n",
    "            i+=k-1\n",
    "        else :\n",
    "            #print(q,x[i:i+k])\n",
    "            r = num(x[i:i+k])-c\n",
    "            i+=k\n",
    "        #print(q,r)\n",
    "        img.append(q*m+r) # final number\n",
    "    return np.array(img)\n",
    "\n",
    "def num(listt): #[0,0,1,0] -> 2\n",
    "    out = 0\n",
    "    for i in range(len(listt)):\n",
    "        out+=listt[len(listt)-1-i]*2**i # decimal number of binary list \n",
    "    return out"
   ]
  },
  {
   "cell_type": "code",
   "execution_count": 13,
   "metadata": {},
   "outputs": [
    {
     "name": "stdout",
     "output_type": "stream",
     "text": [
      "m = 239 Lostless : True\n"
     ]
    }
   ],
   "source": [
    "m = int(np.random.randint(4,255,size=1)) # random m for codding\n",
    "encoded = encode(img,m)\n",
    "output = decode(encoded,m).reshape((N,N))\n",
    "print(\"m =\",m,\"Lostless :\",(sum(sum(output-img)))==0)"
   ]
  },
  {
   "cell_type": "markdown",
   "metadata": {},
   "source": [
    "#### Extra unwanted part : calculation of optimal m, and lowest bits needed for each pixel ≈ 8.4"
   ]
  },
  {
   "cell_type": "code",
   "execution_count": 14,
   "metadata": {},
   "outputs": [
    {
     "name": "stdout",
     "output_type": "stream",
     "text": [
      "0000000000 at N = 41 needed bits per pixel : 8.53955978584176\n",
      "0000000000 at N = 20 needed bits per pixel : 8.455\n",
      "0000000000 at N = 20 needed bits per pixel : 8.4825\n",
      "0000000000 at N = 27 needed bits per pixel : 8.48559670781893\n",
      "0000000000 at N = 27 needed bits per pixel : 8.460905349794238\n",
      "0000000000 at N = 20 needed bits per pixel : 8.4625\n",
      "0000000000 at N = 34 needed bits per pixel : 8.46712802768166\n",
      "0000000000 at N = 48 needed bits per pixel : 8.460503472222221\n",
      "0000000000 at N = 55 needed bits per pixel : 8.47107438016529\n",
      "0000000000 at N = 69 needed bits per pixel : 8.488342785129175\n",
      "0000000000 at N = 48 needed bits per pixel : 8.495659722222221\n",
      "0000000000 at N = 27 needed bits per pixel : 8.506172839506172\n",
      "0000000000 at N = 55 needed bits per pixel : 8.549421487603306\n",
      "0000000000 at N = 20 needed bits per pixel : 8.57\n",
      "0000000000 at N = 20 needed bits per pixel : 8.6025\n",
      "0000000000 at N = 20 needed bits per pixel : 8.6125\n",
      "0000000000 at N = 20 needed bits per pixel : 8.65\n",
      "0000000000 at N = 41 needed bits per pixel : 8.69244497323022\n",
      "\n",
      "best m = 67 lowest bits needed per pixel : 8.455\n"
     ]
    }
   ],
   "source": [
    "bits = np.zeros((18,10))\n",
    "least = np.zeros(18)\n",
    "for i in range(18):\n",
    "    for j in range(10):\n",
    "        N = 20+j*7\n",
    "        img = np.random.randint(1,255,size=(N,N))\n",
    "        m = 7*i+60\n",
    "        encoded = encode(img,m)\n",
    "        bits[i,j] = len(encoded)/N**2\n",
    "        #print(m,len(encoded),8*N**2)\n",
    "        output = decode(encoded,m).reshape((N,N));\n",
    "        print(sum(sum(output-img)),end='')\n",
    "    k = np.argmin(bits[i])\n",
    "    least[i] = bits[i,k]\n",
    "    print(\" at N =\",k*7+20,\"needed bits per pixel :\",bits[i,k])\n",
    "print()\n",
    "#print(bits)\n",
    "k = np.argmin(least)\n",
    "print(\"best m =\",k*7+60,\"lowest bits needed per pixel :\",least[k])"
   ]
  },
  {
   "cell_type": "code",
   "execution_count": null,
   "metadata": {},
   "outputs": [],
   "source": []
  }
 ],
 "metadata": {
  "kernelspec": {
   "display_name": "Python 3",
   "language": "python",
   "name": "python3"
  },
  "language_info": {
   "codemirror_mode": {
    "name": "ipython",
    "version": 3
   },
   "file_extension": ".py",
   "mimetype": "text/x-python",
   "name": "python",
   "nbconvert_exporter": "python",
   "pygments_lexer": "ipython3",
   "version": "3.8.5"
  }
 },
 "nbformat": 4,
 "nbformat_minor": 4
}
