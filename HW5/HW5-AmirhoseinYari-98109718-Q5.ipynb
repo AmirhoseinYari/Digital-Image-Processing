{
 "cells": [
  {
   "cell_type": "markdown",
   "metadata": {},
   "source": [
    "### Importing Libraries"
   ]
  },
  {
   "cell_type": "code",
   "execution_count": 131,
   "metadata": {},
   "outputs": [],
   "source": [
    "import cv2\n",
    "import numpy as np\n",
    "import imageio as iio\n",
    "from matplotlib import pyplot as plt"
   ]
  },
  {
   "cell_type": "code",
   "execution_count": 207,
   "metadata": {},
   "outputs": [
    {
     "data": {
      "image/png": "[encoded data removed]",
      "text/plain": [
       "<Figure size 432x288 with 1 Axes>"
      ]
     },
     "metadata": {
      "needs_background": "light"
     },
     "output_type": "display_data"
    }
   ],
   "source": [
    "N = 20\n",
    "img = np.random.randint(1,255,size=(N,N))\n",
    "plt.imshow(img,cmap=\"gray\");"
   ]
  },
  {
   "cell_type": "code",
   "execution_count": 204,
   "metadata": {},
   "outputs": [],
   "source": [
    "def Unary(num): # 5 -> 111110\n",
    "    b = []\n",
    "    for i in range(num):\n",
    "        b.append(1)\n",
    "    b.append(0)\n",
    "    return(b)\n",
    "#print(Unary(5))\n",
    "\n",
    "def binary(num,bits): # 2,5 -> 00010\n",
    "    b = []\n",
    "    out = bin(num)\n",
    "    for i in range(bits-len(out)+2):\n",
    "        b.append(0)\n",
    "    for i in range(len(out)-2):\n",
    "        b.append(int(out[i+2]))\n",
    "    return b\n",
    "#print(binary(2,5))"
   ]
  },
  {
   "cell_type": "code",
   "execution_count": 205,
   "metadata": {},
   "outputs": [],
   "source": [
    "def encode(img,m=20):\n",
    "    k = int(np.ceil(np.log2(m)))\n",
    "    c = int(2**k-m)\n",
    "    #print(m,k,c)\n",
    "    #print(bin(c))\n",
    "    encoded = []\n",
    "    for i in range(img.shape[0]):\n",
    "        for j in range(img.shape[1]):\n",
    "            numb = img[i,j]\n",
    "            q = numb//m\n",
    "            r = numb - q*m\n",
    "            qcode = Unary(q)\n",
    "            if r<c:\n",
    "                rcode = binary(r,k-1)\n",
    "            else :\n",
    "                rcode = binary(r+c,k)\n",
    "            code = qcode + rcode\n",
    "            #print(q,qcode,r,rcode,code)\n",
    "            encoded += code\n",
    "    #print(\"encoded =\",encoded)\n",
    "    return encoded"
   ]
  },
  {
   "cell_type": "code",
   "execution_count": 206,
   "metadata": {},
   "outputs": [],
   "source": [
    "def decode(x,m=20):\n",
    "    k = int(np.ceil(np.log2(m)))\n",
    "    c = int(2**k-m)\n",
    "    img = []\n",
    "    i = 0\n",
    "    while i<len(x):\n",
    "        #print(x[i],end='')\n",
    "        q = 0\n",
    "        while x[i+q]==1:\n",
    "            q+=1\n",
    "        i+=q+1\n",
    "        if x[i:i+k-1]<binary(c,k-1):\n",
    "            #print(q,x[i:i+k-1])\n",
    "            r = num(x[i:i+k-1])\n",
    "            i+=k-1\n",
    "        else :\n",
    "            #print(q,x[i:i+k])\n",
    "            r = num(x[i:i+k])-c\n",
    "            i+=k\n",
    "        #print(q,r)\n",
    "        img.append(q*m+r)\n",
    "    return np.array(img)\n",
    "\n",
    "def num(listt): #[0,0,1,0] -> 2\n",
    "    out = 0\n",
    "    for i in range(len(listt)):\n",
    "        out+=listt[len(listt)-1-i]*2**i\n",
    "    return out"
   ]
  },
  {
   "cell_type": "code",
   "execution_count": 215,
   "metadata": {},
   "outputs": [
    {
     "name": "stdout",
     "output_type": "stream",
     "text": [
      "m = 58 Lostless : True\n"
     ]
    }
   ],
   "source": [
    "m = int(np.random.randint(4,255,size=1))\n",
    "encoded = encode(img,m)\n",
    "output = decode(encoded,m).reshape((N,N))\n",
    "print(\"m =\",m,\"Lostless :\",(sum(sum(output-img)))==0)"
   ]
  },
  {
   "cell_type": "code",
   "execution_count": 216,
   "metadata": {},
   "outputs": [
    {
     "name": "stdout",
     "output_type": "stream",
     "text": [
      "0000000000 at N = 34 needed bits per pixel : 8.544117647058824\n",
      "0000000000 at N = 41 needed bits per pixel : 8.479476502082093\n",
      "0000000000 at N = 48 needed bits per pixel : 8.477864583333334\n",
      "0000000000 at N = 41 needed bits per pixel : 8.440214158239144\n",
      "0000000000 at N = 20 needed bits per pixel : 8.4575\n",
      "0000000000 at N = 34 needed bits per pixel : 8.479238754325259\n",
      "0000000000 at N = 27 needed bits per pixel : 8.45679012345679\n",
      "0000000000 at N = 20 needed bits per pixel : 8.465\n",
      "0000000000 at N = 20 needed bits per pixel : 8.4725\n",
      "0000000000 at N = 34 needed bits per pixel : 8.475778546712803\n",
      "0000000000 at N = 48 needed bits per pixel : 8.48828125\n",
      "0000000000 at N = 20 needed bits per pixel : 8.5125\n",
      "0000000000 at N = 20 needed bits per pixel : 8.5475\n",
      "0000000000 at N = 76 needed bits per pixel : 8.573580332409973\n",
      "0000000000 at N = 34 needed bits per pixel : 8.589965397923875\n",
      "0000000000 at N = 83 needed bits per pixel : 8.64407025693134\n",
      "0000000000 at N = 20 needed bits per pixel : 8.655\n",
      "0000000000 at N = 27 needed bits per pixel : 8.670781893004115\n",
      "\n",
      "best m = 81 lowest bits needed per pixel : 8.440214158239144\n"
     ]
    }
   ],
   "source": [
    "bits = np.zeros((18,10))\n",
    "least = np.zeros(18)\n",
    "for i in range(18):\n",
    "    for j in range(10):\n",
    "        N = 20+j*7\n",
    "        img = np.random.randint(1,255,size=(N,N))\n",
    "        m = 7*i+60\n",
    "        encoded = encode(img,m)\n",
    "        bits[i,j] = len(encoded)/N**2\n",
    "        #print(m,len(encoded),8*N**2)\n",
    "        output = decode(encoded,m).reshape((N,N));\n",
    "        print(sum(sum(output-img)),end='')\n",
    "    k = np.argmin(bits[i])\n",
    "    least[i] = bits[i,k]\n",
    "    print(\" at N =\",k*7+20,\"needed bits per pixel :\",bits[i,k])\n",
    "print()\n",
    "#print(bits)\n",
    "k = np.argmin(least)\n",
    "print(\"best m =\",k*7+60,\"lowest bits needed per pixel :\",least[k])"
   ]
  },
  {
   "cell_type": "code",
   "execution_count": null,
   "metadata": {},
   "outputs": [],
   "source": []
  }
 ],
 "metadata": {
  "kernelspec": {
   "display_name": "Python 3",
   "language": "python",
   "name": "python3"
  },
  "language_info": {
   "codemirror_mode": {
    "name": "ipython",
    "version": 3
   },
   "file_extension": ".py",
   "mimetype": "text/x-python",
   "name": "python",
   "nbconvert_exporter": "python",
   "pygments_lexer": "ipython3",
   "version": "3.8.5"
  }
 },
 "nbformat": 4,
 "nbformat_minor": 4
}
