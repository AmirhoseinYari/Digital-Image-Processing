{
 "cells": [
  {
   "cell_type": "markdown",
   "metadata": {},
   "source": [
    "### Importing Libraries"
   ]
  },
  {
   "cell_type": "code",
   "execution_count": 1,
   "metadata": {},
   "outputs": [],
   "source": [
    "import cv2\n",
    "import numpy as np\n",
    "import imageio as iio\n",
    "from matplotlib import pyplot as plt"
   ]
  },
  {
   "cell_type": "code",
   "execution_count": 6,
   "metadata": {},
   "outputs": [
    {
     "data": {
      "image/png": "[encoded data removed]",
      "text/plain": [
       "<Figure size 432x288 with 1 Axes>"
      ]
     },
     "metadata": {
      "needs_background": "light"
     },
     "output_type": "display_data"
    }
   ],
   "source": [
    "img = np.random.randint(1,255,size=(10,10))\n",
    "plt.imshow(img,cmap=\"gray\");"
   ]
  },
  {
   "cell_type": "code",
   "execution_count": 32,
   "metadata": {},
   "outputs": [],
   "source": [
    "def Unary(num): # 5 -> 111110\n",
    "    b = []\n",
    "    for i in range(num):\n",
    "        b.append(1)\n",
    "    b.append(0)\n",
    "    return(b)\n",
    "#print(Unary(5))\n",
    "\n",
    "def binary(num,bits): # 2,5 -> 00010\n",
    "    b = []\n",
    "    out = bin(num)\n",
    "    for i in range(bits-len(out)+2):\n",
    "        b.append(0)\n",
    "    for i in range(len(out)-2):\n",
    "        b.append(int(out[i+2]))\n",
    "    return b\n",
    "#print(binary(2,5))"
   ]
  },
  {
   "cell_type": "code",
   "execution_count": 48,
   "metadata": {},
   "outputs": [
    {
     "name": "stdout",
     "output_type": "stream",
     "text": [
      "20 5 12\n"
     ]
    }
   ],
   "source": [
    "m = 20\n",
    "k = int(np.ceil(np.log2(m)))\n",
    "c = int(2**k-m)\n",
    "print(m,k,c)\n",
    "for i in range(img.shape[0]):\n",
    "    for j in range(img.shape[1]):\n",
    "        numb = img[i,j]\n",
    "        q = numb//m\n",
    "        r = numb - q*m\n",
    "        qcode = Unary(q)\n",
    "        if r<c:\n",
    "            rcode = binary(r,k-1)\n",
    "        else :\n",
    "            rcode = binary(r+c,k)\n",
    "        code = qcode.append(rcode)"
   ]
  },
  {
   "cell_type": "code",
   "execution_count": null,
   "metadata": {},
   "outputs": [],
   "source": []
  }
 ],
 "metadata": {
  "kernelspec": {
   "display_name": "Python 3",
   "language": "python",
   "name": "python3"
  },
  "language_info": {
   "codemirror_mode": {
    "name": "ipython",
    "version": 3
   },
   "file_extension": ".py",
   "mimetype": "text/x-python",
   "name": "python",
   "nbconvert_exporter": "python",
   "pygments_lexer": "ipython3",
   "version": "3.8.5"
  }
 },
 "nbformat": 4,
 "nbformat_minor": 4
}
