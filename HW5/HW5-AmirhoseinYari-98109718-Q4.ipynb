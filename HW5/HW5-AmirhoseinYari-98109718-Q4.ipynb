{
 "cells": [
  {
   "cell_type": "code",
   "execution_count": 1,
   "metadata": {},
   "outputs": [],
   "source": [
    "import numpy as np\n",
    "from matplotlib import pyplot as plt"
   ]
  },
  {
   "cell_type": "markdown",
   "metadata": {},
   "source": [
    "### Part 1)\n",
    "   | | Value  | Probability    | Code   |\n",
    "|---:|:-------------|:--------|:------|\n",
    "| 1 | 0   | $\\frac{1}{2}$ | 0   |\n",
    "| 2 | 50  | $\\frac{1}{32}$| 11110   | \n",
    "| 3 | 100 | $\\frac{1}{8}$ | 110  |\n",
    "| 4 | 150 | $\\frac{1}{16}$ | 1110   |\n",
    "| 5 | 200 | $\\frac{1}{32}$| 11111   | \n",
    "| 6 | 250 | $\\frac{1}{4}$ | 10  |"
   ]
  },
  {
   "cell_type": "markdown",
   "metadata": {},
   "source": [
    "### Part 2)"
   ]
  },
  {
   "cell_type": "code",
   "execution_count": 2,
   "metadata": {},
   "outputs": [],
   "source": [
    "def InformationSource(n = 28):\n",
    "    out = np.zeros((n,n))\n",
    "    r = np.random.randint(1, high=33, size=(out.shape))\n",
    "    for i in range(n):\n",
    "        for j in range(n):\n",
    "            if r[i,j]>16:\n",
    "                out[i,j] = 0 #1/2\n",
    "            elif r[i,j]>8:\n",
    "                out[i,j] = 250 #1/4\n",
    "            elif r[i,j]>4:\n",
    "                out[i,j] = 100 #1/8\n",
    "            elif r[i,j]>2:\n",
    "                out[i,j] = 150 #1/16\n",
    "            elif r[i,j]>1:\n",
    "                out[i,j] = 50 #1/32\n",
    "            else :\n",
    "                out[i,j] = 200 #1/32\n",
    "    return out.astype(\"uint8\")"
   ]
  },
  {
   "cell_type": "code",
   "execution_count": 3,
   "metadata": {},
   "outputs": [],
   "source": [
    "img = InformationSource()\n",
    "#print(sum(sum(img==0))/28**2) #shows probability"
   ]
  },
  {
   "cell_type": "markdown",
   "metadata": {},
   "source": [
    "### Part 3)"
   ]
  },
  {
   "cell_type": "code",
   "execution_count": 4,
   "metadata": {},
   "outputs": [],
   "source": [
    "def SourceEncoder(img):\n",
    "    b = []\n",
    "    m, n = img.shape\n",
    "    for i in range(m):\n",
    "        for j in range(n):\n",
    "            if img[i,j]==0:\n",
    "                b = b+[0]\n",
    "            elif img[i,j]==250:\n",
    "                b = b+[1,0]\n",
    "            elif img[i,j]==100:\n",
    "                b = b+[1,1,0]\n",
    "            elif img[i,j]==150:\n",
    "                b = b+[1,1,1,0]\n",
    "            elif img[i,j]==50:\n",
    "                b = b+[1,1,1,1,0]\n",
    "            else :\n",
    "                b = b+[1,1,1,1,1]\n",
    "    return b\n",
    "#print(SourceEncoder(np.array([[0,250],[50,200]]))) #for testing the function"
   ]
  },
  {
   "cell_type": "markdown",
   "metadata": {},
   "source": [
    "### Part 4)"
   ]
  },
  {
   "cell_type": "code",
   "execution_count": 5,
   "metadata": {},
   "outputs": [],
   "source": [
    "def SourceDecoder(b, n=28):\n",
    "    l = len(b)\n",
    "    img = []\n",
    "    i = 0\n",
    "    while(i<l):\n",
    "        ones = 0\n",
    "        while(b[i+ones]==1 and i+ones<l-1):\n",
    "            ones += 1\n",
    "        i += ones+1\n",
    "        if ones==0:\n",
    "            img=img+[0]\n",
    "        elif ones==1:\n",
    "            img=img+[250]\n",
    "        elif ones==2:\n",
    "            img=img+[100]\n",
    "        elif ones==3:\n",
    "            img=img+[150]\n",
    "        elif ones==4 and b[i-1]==0:\n",
    "            img=img+[50]\n",
    "        else :\n",
    "            img=img+[200]\n",
    "            i -= (ones-5)+1\n",
    "    img = np.array(img)\n",
    "    img = img.reshape((n,n))\n",
    "    return img.astype(\"uint8\")\n",
    "    \n",
    "#SourceDecoder([1,0,1,0,0,0],2) #for checking"
   ]
  },
  {
   "cell_type": "markdown",
   "metadata": {},
   "source": [
    "### Part 5)"
   ]
  },
  {
   "cell_type": "code",
   "execution_count": 6,
   "metadata": {},
   "outputs": [
    {
     "name": "stdout",
     "output_type": "stream",
     "text": [
      "Equal\n",
      "Equal\n",
      "Equal\n",
      "Equal\n",
      "Equal\n",
      "Equal\n",
      "Equal\n",
      "Equal\n",
      "Equal\n",
      "Equal\n"
     ]
    }
   ],
   "source": [
    "N = 10\n",
    "for i in range(N):\n",
    "    img = InformationSource()\n",
    "    bits = SourceEncoder(img)\n",
    "    decoded = SourceDecoder(bits)\n",
    "    temp = sum(sum(img-decoded))\n",
    "    if temp == 0:\n",
    "        print(\"Equal\")\n",
    "    else :\n",
    "        print(\"Not equal\")"
   ]
  },
  {
   "cell_type": "markdown",
   "metadata": {},
   "source": [
    "### Part 6)"
   ]
  },
  {
   "cell_type": "code",
   "execution_count": 7,
   "metadata": {},
   "outputs": [],
   "source": [
    "n = 1000\n",
    "L_avg = np.zeros(n)\n",
    "b_sum = 0\n",
    "for i in range(n):\n",
    "    img = InformationSource()\n",
    "    bits = SourceEncoder(img)\n",
    "    b_sum += len(bits)\n",
    "    L_avg[i] = b_sum/(i+1)"
   ]
  },
  {
   "cell_type": "code",
   "execution_count": 8,
   "metadata": {},
   "outputs": [
    {
     "name": "stdout",
     "output_type": "stream",
     "text": [
      "L_avg final value:  1519.274287960781\n"
     ]
    },
    {
     "data": {
      "image/png": "[encoded data removed]",
      "text/plain": [
       "<Figure size 864x576 with 1 Axes>"
      ]
     },
     "metadata": {
      "needs_background": "light"
     },
     "output_type": "display_data"
    }
   ],
   "source": [
    "plt.figure(figsize=(12,8))\n",
    "plt.plot(L_avg)\n",
    "plt.title(\"L_avg :\");\n",
    "plt.grid()\n",
    "print(\"L_avg final value: \",np.mean(L_avg[900:1000]))"
   ]
  },
  {
   "cell_type": "markdown",
   "metadata": {},
   "source": [
    "The final vale must be around $28*28*E(l_{(x)})$ \n",
    "\n",
    "$E(l_{(x)}) = \\sum{p_i*L_i} = \\frac{1}{2}+2\\frac{1}{4}+3\\frac{1}{8}+4\\frac{1}{16}+5\\frac{1}{32}+5\\frac{1}{32} = 1.9375$\n",
    "\n",
    "$\\implies L\\_avg = 1519$ which is the same value from the graph"
   ]
  },
  {
   "cell_type": "code",
   "execution_count": null,
   "metadata": {},
   "outputs": [],
   "source": []
  }
 ],
 "metadata": {
  "kernelspec": {
   "display_name": "Python 3",
   "language": "python",
   "name": "python3"
  },
  "language_info": {
   "codemirror_mode": {
    "name": "ipython",
    "version": 3
   },
   "file_extension": ".py",
   "mimetype": "text/x-python",
   "name": "python",
   "nbconvert_exporter": "python",
   "pygments_lexer": "ipython3",
   "version": "3.8.5"
  }
 },
 "nbformat": 4,
 "nbformat_minor": 4
}
