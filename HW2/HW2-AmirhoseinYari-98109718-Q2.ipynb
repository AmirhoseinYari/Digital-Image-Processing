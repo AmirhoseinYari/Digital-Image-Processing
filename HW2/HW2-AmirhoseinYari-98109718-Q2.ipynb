{
 "cells": [
  {
   "cell_type": "code",
   "execution_count": 303,
   "metadata": {},
   "outputs": [],
   "source": [
    "import imageio as iio\n",
    "import numpy as np\n",
    "from matplotlib import pyplot as plt"
   ]
  },
  {
   "cell_type": "code",
   "execution_count": 304,
   "metadata": {},
   "outputs": [
    {
     "name": "stdout",
     "output_type": "stream",
     "text": [
      "[ True  True  True  True]\n",
      "float64\n"
     ]
    }
   ],
   "source": [
    "img1 = iio.imread('Image1.png').astype(np.float64)\n",
    "img2 = iio.imread('Image2.png').astype(np.float64)\n",
    "mask = iio.imread('Mask.png').astype(np.float64)\n",
    "#print((mask[500,300]/255).astype(bool))\n",
    "#iio.imwrite('Blended.png',img1+(img2-img1)*(mask/255).astype(np.uint8))\n",
    "img1F = np.fft.fftshift(np.fft.fft2(img1))\n",
    "img2F = np.fft.fftshift(np.fft.fft2(img2))\n",
    "maskF = np.fft.fftshift(np.fft.fft2(mask))\n",
    "print(img1.astype(float).dtype)"
   ]
  },
  {
   "cell_type": "code",
   "execution_count": 342,
   "metadata": {},
   "outputs": [],
   "source": [
    "def blur(img, sigma):\n",
    "    (m, n) = img.shape\n",
    "    H = np.zeros((m, n)) #\n",
    "    cy, cx = n/2, m/2\n",
    "    x = np.linspace(0, n, n)\n",
    "    y = np.linspace(0, m, m)\n",
    "    X, Y = np.meshgrid(x, y)\n",
    "    H[:,:] = np.exp(-(((X-cx)/sigma)**2 + ((Y-cy)/sigma)**2))\n",
    "    imageF = np.fft.fft2(img)\n",
    "    imageF = np.fft.fftshift(imageF)\n",
    "    finalF = imageF*H\n",
    "    final = np.fft.ifft2(np.fft.ifftshift(finalF))\n",
    "    final = np.real(final)\n",
    "    N = np.max(img)/np.abs(np.max(final))\n",
    "    final = final*N\n",
    "    #print(img[100,100]/np.abs(final[100,100]))\n",
    "    print(np.max(img)/np.abs(np.max(final)), N)\n",
    "    #plt.imshow(np.abs(final));\n",
    "    return final"
   ]
  },
  {
   "cell_type": "code",
   "execution_count": 343,
   "metadata": {},
   "outputs": [
    {
     "name": "stdout",
     "output_type": "stream",
     "text": [
      "1.0 1.0488096550672508\n",
      "1.0000000000000002 1.0468098414973481\n",
      "1.0 1.0454805929855608\n",
      "0.9999999999999999 1.0539384008327914\n"
     ]
    },
    {
     "name": "stderr",
     "output_type": "stream",
     "text": [
      "Lossy conversion from float64 to uint8. Range [0.00012530670405639277, 255.00000000000003]. Convert image to uint8 prior to saving to suppress this warning.\n"
     ]
    },
    {
     "name": "stdout",
     "output_type": "stream",
     "text": [
      "1.0 1.0550357770861518\n",
      "1.0000000000000002 1.0540405789062348\n",
      "1.0 1.0523707979441146\n",
      "1.0000000000000002 1.0539383959152786\n",
      "1.0 1.0389713244806467\n",
      "0.9999999999999999 1.0389248799696087\n",
      "1.0000000000000002 1.038921297669159\n",
      "1.0 1.0540607217071951\n",
      "1.0 1.1483143720084528\n",
      "1.0 1.1448403047765172\n",
      "1.0 1.142742958477169\n",
      "1.0 1.1572890352648542\n"
     ]
    },
    {
     "name": "stderr",
     "output_type": "stream",
     "text": [
      "Lossy conversion from float64 to uint8. Range [6.021110264476219e-06, 255.0]. Convert image to uint8 prior to saving to suppress this warning.\n"
     ]
    },
    {
     "name": "stdout",
     "output_type": "stream",
     "text": [
      "1.0 1.1600459108077954\n",
      "0.9999999999999999 1.157499942019464\n",
      "1.0 1.152337666909019\n",
      "1.0 1.1572694770545662\n",
      "1.0 1.127039518012488\n",
      "1.0 1.1268785432013395\n",
      "1.0000000000000002 1.1268661214003997\n",
      "0.9999999999999999 1.1574857135654966\n",
      "1.0 1.3801458477834505\n",
      "1.0 1.3764599128984374\n",
      "1.0 1.3742374346599686\n",
      "1.0000000000000002 1.3893903001305838\n"
     ]
    },
    {
     "name": "stderr",
     "output_type": "stream",
     "text": [
      "Lossy conversion from float64 to uint8. Range [0.0008507985958737102, 255.0]. Convert image to uint8 prior to saving to suppress this warning.\n"
     ]
    },
    {
     "name": "stdout",
     "output_type": "stream",
     "text": [
      "1.0 1.3947790348854325\n",
      "1.0 1.3897616422296122\n",
      "1.0 1.3859139321266776\n",
      "1.0 1.3893264149799973\n",
      "1.0 1.335600998860254\n",
      "1.0 1.33558264268612\n",
      "1.0 1.3356117110542522\n",
      "1.0000000000000002 1.389665220986223\n",
      "1.0 1.7622799204364676\n",
      "1.0 1.7712786989229665\n",
      "1.0 1.7677748313085935\n",
      "1.0 1.7944195803908467\n"
     ]
    },
    {
     "name": "stderr",
     "output_type": "stream",
     "text": [
      "Lossy conversion from float64 to uint8. Range [8.942667406426042e-06, 255.0]. Convert image to uint8 prior to saving to suppress this warning.\n"
     ]
    },
    {
     "name": "stdout",
     "output_type": "stream",
     "text": [
      "1.0 1.8026134644507836\n",
      "1.0 1.7947084972090508\n",
      "1.0 1.7891197187669083\n",
      "0.9999999999999999 1.7943187342438205\n",
      "1.0 1.6631364086265645\n",
      "1.0 1.6631266149418074\n",
      "1.0 1.6631535053638091\n",
      "1.0 1.7949921660986776\n",
      "0.9999999999999999 2.1117679382406522\n",
      "0.9999999999999999 2.136721989284507\n",
      "1.0 2.154156535096581\n",
      "1.0 2.320783565327967\n"
     ]
    },
    {
     "name": "stderr",
     "output_type": "stream",
     "text": [
      "Lossy conversion from float64 to uint8. Range [0.0004929774167973278, 255.00000000000003]. Convert image to uint8 prior to saving to suppress this warning.\n"
     ]
    },
    {
     "name": "stdout",
     "output_type": "stream",
     "text": [
      "1.0000000000000002 2.325593352738946\n",
      "1.0000000000000002 2.3200162371654858\n",
      "1.0 2.2828276936028984\n",
      "1.0 2.3205308433705003\n",
      "1.0000000000000002 2.0236256666298256\n",
      "0.9999999999999999 2.0236220260446376\n",
      "0.9999999999999999 2.0236405617389828\n",
      "0.9999999999999999 2.3219351328785813\n",
      "1.0000000000000002 2.4549181727467557\n",
      "0.9999999999999999 2.497564537416699\n",
      "1.0 2.5177876714090504\n",
      "1.0 2.9655035333433797\n"
     ]
    },
    {
     "name": "stderr",
     "output_type": "stream",
     "text": [
      "Lossy conversion from float64 to uint8. Range [0.0008020616469425981, 255.00000000000003]. Convert image to uint8 prior to saving to suppress this warning.\n"
     ]
    },
    {
     "name": "stdout",
     "output_type": "stream",
     "text": [
      "1.0 2.9172723139478864\n",
      "1.0 2.908835715642353\n",
      "1.0 2.8064019083778837\n",
      "0.9999999999999999 2.965086491471985\n",
      "1.0000000000000002 2.392684692648551\n",
      "1.0 2.3927477714089336\n",
      "1.0000000000000002 2.392755105770838\n",
      "1.0 2.967770923568047\n",
      "1.0 2.7820693323440655\n",
      "1.0 2.8328180408541375\n",
      "1.0 2.872983711670423\n",
      "1.0 3.72548730928828\n"
     ]
    },
    {
     "name": "stderr",
     "output_type": "stream",
     "text": [
      "Lossy conversion from float64 to uint8. Range [0.0002381016163621684, 255.0]. Convert image to uint8 prior to saving to suppress this warning.\n"
     ]
    },
    {
     "name": "stdout",
     "output_type": "stream",
     "text": [
      "1.0 3.58278260385693\n",
      "1.0 3.488583322509901\n",
      "1.0 3.3595164374565623\n",
      "1.0 3.7246527874819195\n",
      "0.9999999999999999 2.756723054044727\n",
      "1.0 2.7567760013167115\n",
      "1.0 2.756781495591143\n",
      "1.0 3.7294153535342938\n",
      "1.0 2.9881269658342617\n",
      "1.0 3.0204791199865166\n",
      "1.0 3.1016004270605504\n",
      "0.9999999999999999 4.293893041595182\n"
     ]
    },
    {
     "name": "stderr",
     "output_type": "stream",
     "text": [
      "Lossy conversion from float64 to uint8. Range [0.00027990512595569986, 255.00000000000003]. Convert image to uint8 prior to saving to suppress this warning.\n"
     ]
    },
    {
     "name": "stdout",
     "output_type": "stream",
     "text": [
      "1.0000000000000002 4.015210839010147\n",
      "1.0 3.883809515045285\n",
      "1.0 3.7390087256770888\n",
      "1.0000000000000002 4.292650546962453\n",
      "1.0 2.9893331972317774\n",
      "1.0 2.9893401116620084\n",
      "1.0 2.9893458865156255\n",
      "1.0 4.299292150599019\n",
      "1.0 3.23028517290742\n",
      "1.0 3.233388731705666\n",
      "1.0 3.321338232698977\n",
      "1.0 5.070709933669829\n"
     ]
    },
    {
     "name": "stderr",
     "output_type": "stream",
     "text": [
      "Lossy conversion from float64 to uint8. Range [0.000163083996085227, 255.0]. Convert image to uint8 prior to saving to suppress this warning.\n"
     ]
    },
    {
     "name": "stdout",
     "output_type": "stream",
     "text": [
      "1.0 4.323906488557075\n",
      "1.0000000000000002 4.263175921194838\n",
      "1.0 4.217976325473335\n",
      "1.0 5.068786129008292\n",
      "1.0 3.2633200934304387\n",
      "1.0 3.2633245823644152\n",
      "1.0 3.2633284120257797\n",
      "0.9999999999999999 5.078428314335668\n",
      "1.0 3.511020092714558\n",
      "1.0 3.4779935640191075\n",
      "1.0 3.569113733368223\n",
      "1.0 6.171383620526315\n"
     ]
    },
    {
     "name": "stderr",
     "output_type": "stream",
     "text": [
      "Lossy conversion from float64 to uint8. Range [0.00014465514284908555, 255.0]. Convert image to uint8 prior to saving to suppress this warning.\n"
     ]
    },
    {
     "name": "stdout",
     "output_type": "stream",
     "text": [
      "1.0 4.688619856937903\n",
      "1.0 4.602763401672342\n",
      "1.0 4.573243457699136\n",
      "1.0 6.168262586848239\n",
      "1.0 3.5924594982068947\n",
      "1.0 3.5924621497919196\n",
      "1.0 3.592464465964246\n",
      "0.9999999999999999 6.182986183463762\n",
      "1.0 3.836119480490806\n",
      "1.0 3.758829855733245\n",
      "1.0 3.8534309766783577\n",
      "1.0 7.801062673983017\n"
     ]
    },
    {
     "name": "stderr",
     "output_type": "stream",
     "text": [
      "Lossy conversion from float64 to uint8. Range [6.679673553682351e-05, 255.0]. Convert image to uint8 prior to saving to suppress this warning.\n"
     ]
    },
    {
     "name": "stdout",
     "output_type": "stream",
     "text": [
      "1.0 5.121064708201324\n",
      "1.0 5.002931905935735\n",
      "1.0 4.95390189977337\n",
      "1.0 7.795695881773354\n",
      "1.0 3.9888018308311373\n",
      "1.0 3.9888032169108842\n",
      "1.0 3.9888044603199404\n",
      "1.0 7.8196745576047695\n",
      "0.9999999999999999 4.165796330625494\n",
      "1.0000000000000002 4.079288111322362\n",
      "0.9999999999999999 4.170045390083349\n",
      "0.9999999999999999 10.348557767863142\n"
     ]
    },
    {
     "name": "stderr",
     "output_type": "stream",
     "text": [
      "Lossy conversion from float64 to uint8. Range [0.0002559867709960069, 255.00000000000003]. Convert image to uint8 prior to saving to suppress this warning.\n"
     ]
    },
    {
     "name": "stdout",
     "output_type": "stream",
     "text": [
      "1.0 5.634456937369266\n",
      "1.0 5.475533597750311\n",
      "1.0 5.402336123875916\n",
      "1.0 10.33881382477172\n",
      "1.0000000000000002 4.465417275254042\n",
      "0.9999999999999999 4.465417892211376\n",
      "1.0 4.465418462938583\n",
      "1.0 10.381263871245391\n",
      "1.0 6.350984051985233\n",
      "1.0 6.308366919942931\n",
      "1.0 6.4647695883001575\n",
      "1.0 183.66665135944373\n"
     ]
    },
    {
     "name": "stderr",
     "output_type": "stream",
     "text": [
      "Lossy conversion from float64 to uint8. Range [1.127678748081784e-06, 255.0]. Convert image to uint8 prior to saving to suppress this warning.\n"
     ]
    },
    {
     "name": "stdout",
     "output_type": "stream",
     "text": [
      "1.0 9.742139960532345\n",
      "1.0 9.297034921407224\n",
      "0.9999999999999999 9.07566191453475\n",
      "0.9999999999999999 181.3797133161447\n",
      "1.0 8.341902587175344\n",
      "1.0000000000000002 8.35585481354191\n",
      "1.0 8.355854813606244\n",
      "1.0000000000000002 193.447453753587\n"
     ]
    }
   ],
   "source": [
    "img1G = []\n",
    "img2G = []\n",
    "maskG = []\n",
    "(m, n, color) = img1.shape\n",
    "sigmas = [1000, 600, 400, 300, 250, 220, 200, 190, 180, 170, 160, 150, 100]\n",
    "\n",
    "img1F = np.fft.fftshift(np.fft.fft2(img1))\n",
    "img2F = np.fft.fftshift(np.fft.fft2(img2))\n",
    "maskF = np.fft.fftshift(np.fft.fft2(mask))\n",
    "\n",
    "for i in range(len(sigmas)):\n",
    "    sigma = sigmas[i]\n",
    "    \n",
    "    img1 = iio.imread('Image1.png')\n",
    "    temp = img1.astype(np.float64)\n",
    "    temp[:,:,0] = blur(temp[:,:,0],sigma)\n",
    "    temp[:,:,1] = blur(temp[:,:,1],sigma)\n",
    "    temp[:,:,2] = blur(temp[:,:,2],sigma)\n",
    "    temp[:,:,3] = blur(temp[:,:,3],sigma)\n",
    "    img1G.append(temp.astype(np.uint8))\n",
    "    iio.imwrite('tests/bigMasoud'+str(i+1)+'.png',(np.abs(temp)))\n",
    "    \n",
    "    img2 = iio.imread('Image2.png')\n",
    "    temp = img2.astype(np.float64)\n",
    "    temp[:,:,0] = blur(temp[:,:,0],sigma)\n",
    "    temp[:,:,1] = blur(temp[:,:,1],sigma)\n",
    "    temp[:,:,2] = blur(temp[:,:,2],sigma)\n",
    "    temp[:,:,3] = blur(temp[:,:,3],sigma)\n",
    "    img2G.append(temp)\n",
    "    \n",
    "    mask = iio.imread('Mask.png')\n",
    "    temp = mask.astype(np.float64)\n",
    "    temp[:,:,0] = blur(temp[:,:,0],sigma)\n",
    "    temp[:,:,1] = blur(temp[:,:,1],sigma)\n",
    "    temp[:,:,2] = blur(temp[:,:,2],sigma)\n",
    "    temp[:,:,3] = blur(temp[:,:,3],sigma)\n",
    "    #temp = (temp>1).astype(int)\n",
    "    #temp = temp*255\n",
    "    maskG.append(temp.astype(np.uint8))\n"
   ]
  },
  {
   "cell_type": "code",
   "execution_count": 344,
   "metadata": {},
   "outputs": [
    {
     "name": "stderr",
     "output_type": "stream",
     "text": [
      "Lossy conversion from float64 to uint8. Range [-17.965409219255427, 255.0]. Convert image to uint8 prior to saving to suppress this warning.\n",
      "Lossy conversion from float64 to uint8. Range [-20.757300415702197, 255.0]. Convert image to uint8 prior to saving to suppress this warning.\n",
      "Lossy conversion from float64 to uint8. Range [-14.568536442920305, 255.0]. Convert image to uint8 prior to saving to suppress this warning.\n",
      "Lossy conversion from float64 to uint8. Range [-16.806342706942928, 255.0]. Convert image to uint8 prior to saving to suppress this warning.\n",
      "Lossy conversion from float64 to uint8. Range [-18.945077095960983, 255.0]. Convert image to uint8 prior to saving to suppress this warning.\n",
      "Lossy conversion from float64 to uint8. Range [-20.3048517597571, 255.0]. Convert image to uint8 prior to saving to suppress this warning.\n",
      "Lossy conversion from float64 to uint8. Range [-11.725274282729458, 255.0]. Convert image to uint8 prior to saving to suppress this warning.\n",
      "Lossy conversion from float64 to uint8. Range [-13.776511533585193, 255.0]. Convert image to uint8 prior to saving to suppress this warning.\n",
      "Lossy conversion from float64 to uint8. Range [-3.422769157950299, 167.36522230028464]. Convert image to uint8 prior to saving to suppress this warning.\n",
      "Lossy conversion from float64 to uint8. Range [-3.2981328174751354, 154.5797986529682]. Convert image to uint8 prior to saving to suppress this warning.\n",
      "Lossy conversion from float64 to uint8. Range [-2.942123628082129, 255.0]. Convert image to uint8 prior to saving to suppress this warning.\n",
      "Lossy conversion from float64 to uint8. Range [-30.62190158696643, 254.25505301469028]. Convert image to uint8 prior to saving to suppress this warning.\n",
      "Lossy conversion from float64 to uint8. Range [-187.36025807276707, 255.00000000000003]. Convert image to uint8 prior to saving to suppress this warning.\n"
     ]
    },
    {
     "name": "stdout",
     "output_type": "stream",
     "text": [
      "2347.2382125190657\n"
     ]
    },
    {
     "data": {
      "image/png": "[encoded data removed]",
      "text/plain": [
       "<Figure size 432x288 with 1 Axes>"
      ]
     },
     "metadata": {
      "needs_background": "light"
     },
     "output_type": "display_data"
    }
   ],
   "source": [
    "img1L = []\n",
    "img2L = []\n",
    "blendedL =[]\n",
    "for i in range(len(sigmas)-1):\n",
    "    img1L.append(img1G[i] - img1G[i+1])\n",
    "    img2L.append(img2G[i] - img2G[i+1])\n",
    "img1L.append(img1G[len(sigmas)-1])\n",
    "img2L.append(img2G[len(sigmas)-1])\n",
    "\n",
    "blended_image = np.zeros(img1.shape)\n",
    "for i in range(len(sigmas)):\n",
    "    temp = img1L[i]*(maskG[i]/255)+img2L[i]*(1-(maskG[i]/255))\n",
    "    blendedL.append(temp)\n",
    "    blended_image = blended_image + blendedL[i]\n",
    "    iio.imwrite('tests/blended'+str(i)+'.png',(blendedL[i]))\n",
    "print(np.max(blended_image))\n",
    "#plt.imshow(255*np.abs(blended_image)/np.max(blended_image));\n",
    "plt.imshow(blendedL[1].astype(np.uint8))\n",
    "iio.imwrite('tests/blended'+str(100)+'.png',(np.abs(blended_image)).astype(np.uint8))"
   ]
  },
  {
   "cell_type": "code",
   "execution_count": null,
   "metadata": {},
   "outputs": [],
   "source": []
  },
  {
   "cell_type": "code",
   "execution_count": null,
   "metadata": {},
   "outputs": [],
   "source": []
  },
  {
   "cell_type": "code",
   "execution_count": null,
   "metadata": {},
   "outputs": [],
   "source": []
  }
 ],
 "metadata": {
  "kernelspec": {
   "display_name": "Python 3",
   "language": "python",
   "name": "python3"
  },
  "language_info": {
   "codemirror_mode": {
    "name": "ipython",
    "version": 3
   },
   "file_extension": ".py",
   "mimetype": "text/x-python",
   "name": "python",
   "nbconvert_exporter": "python",
   "pygments_lexer": "ipython3",
   "version": "3.8.5"
  }
 },
 "nbformat": 4,
 "nbformat_minor": 4
}
